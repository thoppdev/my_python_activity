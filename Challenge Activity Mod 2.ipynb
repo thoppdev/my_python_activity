{
 "cells": [
  {
   "cell_type": "code",
   "execution_count": 1,
   "id": "327f7c6e",
   "metadata": {},
   "outputs": [
    {
     "name": "stdout",
     "output_type": "stream",
     "text": [
      "(1844, 6)\n",
      "Date      object\n",
      "Price    float64\n",
      "Open     float64\n",
      "High     float64\n",
      "Low      float64\n",
      "Vol.      object\n",
      "dtype: object\n",
      "         Date   Price    Open    High     Low     Vol.\n",
      "0  2011-12-01  100.20  100.51  101.17   98.87  275.86K\n",
      "1  2011-12-02  100.96  100.00  101.56   99.76  245.92K\n",
      "2  2011-12-05  100.99  101.23  102.44  100.24  239.38K\n",
      "3  2011-12-06  101.28  100.45  101.42  100.20  217.03K\n",
      "4  2011-12-07  100.49  101.11  101.94   99.67  330.53K\n",
      "            Date  Price   Open   High    Low     Vol.\n",
      "1839  2018-12-25  43.16  43.00  43.25  42.88        -\n",
      "1840  2018-12-26  46.22  42.85  47.00  42.52  698.41K\n",
      "1841  2018-12-27  44.61  46.58  46.70  44.37  665.59K\n",
      "1842  2018-12-28  45.33  45.44  46.22  44.42  564.39K\n",
      "1843  2018-12-31  45.41  45.22  46.53  44.73  476.97K\n"
     ]
    },
    {
     "data": {
      "text/plain": [
       "<function print>"
      ]
     },
     "execution_count": 1,
     "metadata": {},
     "output_type": "execute_result"
    }
   ],
   "source": [
    "# Import the libarary\n",
    "import pandas as pd\n",
    "\n",
    "# Import the CSV files\n",
    "oil = pd.read_csv('oil_price.csv')\n",
    "gold = pd.read_csv('gold_stocks_price.csv')\n",
    "\n",
    "# View the oil DataFrame\n",
    "print(oil.shape)\n",
    "print(oil.dtypes)\n",
    "print(oil.head())\n",
    "print(oil.tail())\n",
    "print"
   ]
  },
  {
   "cell_type": "code",
   "execution_count": 2,
   "id": "4cebbf4a",
   "metadata": {},
   "outputs": [
    {
     "name": "stdout",
     "output_type": "stream",
     "text": [
      "(1718, 81)\n",
      "Date              object\n",
      "Open             float64\n",
      "High             float64\n",
      "Low              float64\n",
      "Close            float64\n",
      "                  ...   \n",
      "USO_High         float64\n",
      "USO_Low          float64\n",
      "USO_Close        float64\n",
      "USO_Adj Close    float64\n",
      "USO_Volume         int64\n",
      "Length: 81, dtype: object\n",
      "         Date        Open        High         Low       Close   Adj Close  \\\n",
      "0  2011-12-15  154.740005  154.949997  151.710007  152.330002  152.330002   \n",
      "1  2011-12-16  154.309998  155.369995  153.899994  155.229996  155.229996   \n",
      "2  2011-12-19  155.479996  155.860001  154.360001  154.869995  154.869995   \n",
      "3  2011-12-20  156.820007  157.429993  156.580002  156.979996  156.979996   \n",
      "4  2011-12-21  156.979996  157.529999  156.130005  157.160004  157.160004   \n",
      "\n",
      "     Volume     SP_open     SP_high      SP_low  ...    GDX_Low  GDX_Close  \\\n",
      "0  21521900  123.029999  123.199997  121.989998  ...  51.570000  51.680000   \n",
      "1  18124300  122.230003  122.949997  121.300003  ...  52.040001  52.680000   \n",
      "2  12547200  122.059998  122.320000  120.029999  ...  51.029999  51.169998   \n",
      "3   9136300  122.180000  124.139999  120.370003  ...  52.369999  52.990002   \n",
      "4  11996100  123.930000  124.360001  122.750000  ...  52.419998  52.959999   \n",
      "\n",
      "   GDX_Adj Close  GDX_Volume   USO_Open   USO_High    USO_Low  USO_Close  \\\n",
      "0      48.973877    20605600  36.900002  36.939999  36.049999  36.130001   \n",
      "1      49.921513    16285400  36.180000  36.500000  35.730000  36.270000   \n",
      "2      48.490578    15120200  36.389999  36.450001  35.930000  36.200001   \n",
      "3      50.215282    11644900  37.299999  37.610001  37.220001  37.560001   \n",
      "4      50.186852     8724300  37.669998  38.240002  37.520000  38.110001   \n",
      "\n",
      "   USO_Adj Close  USO_Volume  \n",
      "0      36.130001    12616700  \n",
      "1      36.270000    12578800  \n",
      "2      36.200001     7418200  \n",
      "3      37.560001    10041600  \n",
      "4      38.110001    10728000  \n",
      "\n",
      "[5 rows x 81 columns]\n",
      "            Date        Open        High         Low       Close   Adj Close  \\\n",
      "1713  2018-12-24  119.570000  120.139999  119.570000  120.019997  120.019997   \n",
      "1714  2018-12-26  120.620003  121.000000  119.570000  119.660004  119.660004   \n",
      "1715  2018-12-27  120.570000  120.900002  120.139999  120.570000  120.570000   \n",
      "1716  2018-12-28  120.800003  121.080002  120.720001  121.059998  121.059998   \n",
      "1717  2018-12-31  120.980003  121.260002  120.830002  121.250000  121.250000   \n",
      "\n",
      "        Volume     SP_open     SP_high      SP_low  ...    GDX_Low  GDX_Close  \\\n",
      "1713   9736400  239.039993  240.839996  234.270004  ...  20.650000  21.090000   \n",
      "1714  14293500  235.970001  246.179993  233.759995  ...  20.530001  20.620001   \n",
      "1715  11874400  242.570007  248.289993  238.960007  ...  20.700001  20.969999   \n",
      "1716   6864700  249.580002  251.399994  246.449997  ...  20.570000  20.600000   \n",
      "1717   8449400  249.559998  250.190002  247.470001  ...  20.559999  21.090000   \n",
      "\n",
      "      GDX_Adj Close  GDX_Volume  USO_Open  USO_High  USO_Low  USO_Close  \\\n",
      "1713      21.090000    60507000      9.49      9.52     9.28       9.29   \n",
      "1714      20.620001    76365200      9.25      9.92     9.23       9.90   \n",
      "1715      20.969999    52393000      9.59      9.65     9.37       9.62   \n",
      "1716      20.600000    49835000      9.54      9.65     9.38       9.53   \n",
      "1717      21.090000    53866600      9.63      9.71     9.44       9.66   \n",
      "\n",
      "      USO_Adj Close  USO_Volume  \n",
      "1713           9.29    21598200  \n",
      "1714           9.90    40978800  \n",
      "1715           9.62    36578700  \n",
      "1716           9.53    22803400  \n",
      "1717           9.66    28417400  \n",
      "\n",
      "[5 rows x 81 columns]\n"
     ]
    }
   ],
   "source": [
    "# View the gold DataFrame\n",
    "print(gold.shape)\n",
    "print(gold.dtypes)\n",
    "print(gold.head())\n",
    "print(gold.tail())"
   ]
  },
  {
   "cell_type": "markdown",
   "id": "0827964f",
   "metadata": {},
   "source": [
    "###### Crerateing sunset on the gold stock price"
   ]
  },
  {
   "cell_type": "code",
   "execution_count": 3,
   "id": "bd65cf7a",
   "metadata": {},
   "outputs": [
    {
     "data": {
      "text/html": [
       "<div>\n",
       "<style scoped>\n",
       "    .dataframe tbody tr th:only-of-type {\n",
       "        vertical-align: middle;\n",
       "    }\n",
       "\n",
       "    .dataframe tbody tr th {\n",
       "        vertical-align: top;\n",
       "    }\n",
       "\n",
       "    .dataframe thead th {\n",
       "        text-align: right;\n",
       "    }\n",
       "</style>\n",
       "<table border=\"1\" class=\"dataframe\">\n",
       "  <thead>\n",
       "    <tr style=\"text-align: right;\">\n",
       "      <th></th>\n",
       "      <th>Date</th>\n",
       "      <th>Open</th>\n",
       "      <th>High</th>\n",
       "      <th>Low</th>\n",
       "    </tr>\n",
       "  </thead>\n",
       "  <tbody>\n",
       "    <tr>\n",
       "      <th>0</th>\n",
       "      <td>2011-12-15</td>\n",
       "      <td>154.740005</td>\n",
       "      <td>154.949997</td>\n",
       "      <td>151.710007</td>\n",
       "    </tr>\n",
       "    <tr>\n",
       "      <th>1</th>\n",
       "      <td>2011-12-16</td>\n",
       "      <td>154.309998</td>\n",
       "      <td>155.369995</td>\n",
       "      <td>153.899994</td>\n",
       "    </tr>\n",
       "    <tr>\n",
       "      <th>2</th>\n",
       "      <td>2011-12-19</td>\n",
       "      <td>155.479996</td>\n",
       "      <td>155.860001</td>\n",
       "      <td>154.360001</td>\n",
       "    </tr>\n",
       "    <tr>\n",
       "      <th>3</th>\n",
       "      <td>2011-12-20</td>\n",
       "      <td>156.820007</td>\n",
       "      <td>157.429993</td>\n",
       "      <td>156.580002</td>\n",
       "    </tr>\n",
       "    <tr>\n",
       "      <th>4</th>\n",
       "      <td>2011-12-21</td>\n",
       "      <td>156.979996</td>\n",
       "      <td>157.529999</td>\n",
       "      <td>156.130005</td>\n",
       "    </tr>\n",
       "    <tr>\n",
       "      <th>...</th>\n",
       "      <td>...</td>\n",
       "      <td>...</td>\n",
       "      <td>...</td>\n",
       "      <td>...</td>\n",
       "    </tr>\n",
       "    <tr>\n",
       "      <th>1713</th>\n",
       "      <td>2018-12-24</td>\n",
       "      <td>119.570000</td>\n",
       "      <td>120.139999</td>\n",
       "      <td>119.570000</td>\n",
       "    </tr>\n",
       "    <tr>\n",
       "      <th>1714</th>\n",
       "      <td>2018-12-26</td>\n",
       "      <td>120.620003</td>\n",
       "      <td>121.000000</td>\n",
       "      <td>119.570000</td>\n",
       "    </tr>\n",
       "    <tr>\n",
       "      <th>1715</th>\n",
       "      <td>2018-12-27</td>\n",
       "      <td>120.570000</td>\n",
       "      <td>120.900002</td>\n",
       "      <td>120.139999</td>\n",
       "    </tr>\n",
       "    <tr>\n",
       "      <th>1716</th>\n",
       "      <td>2018-12-28</td>\n",
       "      <td>120.800003</td>\n",
       "      <td>121.080002</td>\n",
       "      <td>120.720001</td>\n",
       "    </tr>\n",
       "    <tr>\n",
       "      <th>1717</th>\n",
       "      <td>2018-12-31</td>\n",
       "      <td>120.980003</td>\n",
       "      <td>121.260002</td>\n",
       "      <td>120.830002</td>\n",
       "    </tr>\n",
       "  </tbody>\n",
       "</table>\n",
       "<p>1718 rows × 4 columns</p>\n",
       "</div>"
      ],
      "text/plain": [
       "            Date        Open        High         Low\n",
       "0     2011-12-15  154.740005  154.949997  151.710007\n",
       "1     2011-12-16  154.309998  155.369995  153.899994\n",
       "2     2011-12-19  155.479996  155.860001  154.360001\n",
       "3     2011-12-20  156.820007  157.429993  156.580002\n",
       "4     2011-12-21  156.979996  157.529999  156.130005\n",
       "...          ...         ...         ...         ...\n",
       "1713  2018-12-24  119.570000  120.139999  119.570000\n",
       "1714  2018-12-26  120.620003  121.000000  119.570000\n",
       "1715  2018-12-27  120.570000  120.900002  120.139999\n",
       "1716  2018-12-28  120.800003  121.080002  120.720001\n",
       "1717  2018-12-31  120.980003  121.260002  120.830002\n",
       "\n",
       "[1718 rows x 4 columns]"
      ]
     },
     "execution_count": 3,
     "metadata": {},
     "output_type": "execute_result"
    }
   ],
   "source": [
    "gold_sub = gold[['Date','Open','High','Low']]\n",
    "\n",
    "gold_sub\n"
   ]
  },
  {
   "cell_type": "code",
   "execution_count": 5,
   "id": "1c6c3c71",
   "metadata": {},
   "outputs": [
    {
     "data": {
      "text/plain": [
       "(500, 4)"
      ]
     },
     "execution_count": 5,
     "metadata": {},
     "output_type": "execute_result"
    }
   ],
   "source": [
    "gold_sub = gold_sub.iloc[:500]\n",
    "gold_sub.shape\n"
   ]
  },
  {
   "cell_type": "code",
   "execution_count": 6,
   "id": "6e564522",
   "metadata": {},
   "outputs": [
    {
     "name": "stdout",
     "output_type": "stream",
     "text": [
      " Missing data :  Date    0\n",
      "Open    0\n",
      "High    0\n",
      "Low     0\n",
      "dtype: int64\n"
     ]
    }
   ],
   "source": [
    "print(\" Missing data : \",gold_sub.isnull().sum())"
   ]
  },
  {
   "cell_type": "code",
   "execution_count": 8,
   "id": "2f8463b2",
   "metadata": {},
   "outputs": [
    {
     "name": "stdout",
     "output_type": "stream",
     "text": [
      "Open :173.199997\n"
     ]
    }
   ],
   "source": [
    "print(f\"Open :{gold_sub['Open'].max()}\")"
   ]
  },
  {
   "cell_type": "code",
   "execution_count": null,
   "id": "24619eef",
   "metadata": {},
   "outputs": [],
   "source": []
  }
 ],
 "metadata": {
  "kernelspec": {
   "display_name": "Python 3 (ipykernel)",
   "language": "python",
   "name": "python3"
  },
  "language_info": {
   "codemirror_mode": {
    "name": "ipython",
    "version": 3
   },
   "file_extension": ".py",
   "mimetype": "text/x-python",
   "name": "python",
   "nbconvert_exporter": "python",
   "pygments_lexer": "ipython3",
   "version": "3.9.12"
  }
 },
 "nbformat": 4,
 "nbformat_minor": 5
}
